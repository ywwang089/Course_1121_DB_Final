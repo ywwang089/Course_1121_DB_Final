{
 "cells": [
  {
   "cell_type": "code",
   "execution_count": 30,
   "metadata": {},
   "outputs": [],
   "source": [
    "import pandas as pd\n",
    "from sklearn.impute import SimpleImputer\n",
    "import numpy as np"
   ]
  },
  {
   "cell_type": "code",
   "execution_count": 31,
   "metadata": {},
   "outputs": [
    {
     "name": "stdout",
     "output_type": "stream",
     "text": [
      "(129891, 7)\n"
     ]
    }
   ],
   "source": [
    "df = pd.read_csv('IMBD.csv', encoding='unicode_escape');print(df.shape)"
   ]
  },
  {
   "cell_type": "code",
   "execution_count": 32,
   "metadata": {},
   "outputs": [
    {
     "name": "stdout",
     "output_type": "stream",
     "text": [
      "(115866, 7)\n"
     ]
    },
    {
     "data": {
      "text/html": [
       "<div>\n",
       "<style scoped>\n",
       "    .dataframe tbody tr th:only-of-type {\n",
       "        vertical-align: middle;\n",
       "    }\n",
       "\n",
       "    .dataframe tbody tr th {\n",
       "        vertical-align: top;\n",
       "    }\n",
       "\n",
       "    .dataframe thead th {\n",
       "        text-align: right;\n",
       "    }\n",
       "</style>\n",
       "<table border=\"1\" class=\"dataframe\">\n",
       "  <thead>\n",
       "    <tr style=\"text-align: right;\">\n",
       "      <th></th>\n",
       "      <th>movie</th>\n",
       "      <th>genre</th>\n",
       "      <th>runtime</th>\n",
       "      <th>certificate</th>\n",
       "      <th>rating</th>\n",
       "      <th>stars</th>\n",
       "      <th>votes</th>\n",
       "    </tr>\n",
       "  </thead>\n",
       "  <tbody>\n",
       "    <tr>\n",
       "      <th>0</th>\n",
       "      <td>The Witcher</td>\n",
       "      <td>Action, Adventure, Drama</td>\n",
       "      <td>60 min</td>\n",
       "      <td>A</td>\n",
       "      <td>8.1</td>\n",
       "      <td>['Henry Cavill, ', 'Freya Allan, ', 'Anya Chal...</td>\n",
       "      <td>5,39,085</td>\n",
       "    </tr>\n",
       "    <tr>\n",
       "      <th>1</th>\n",
       "      <td>Mission: Impossible - Dead Reckoning Part One</td>\n",
       "      <td>Action, Adventure, Thriller</td>\n",
       "      <td>163 min</td>\n",
       "      <td>UA</td>\n",
       "      <td>8.0</td>\n",
       "      <td>['Tom Cruise, ', 'Hayley Atwell, ', 'Ving Rham...</td>\n",
       "      <td>1,06,759</td>\n",
       "    </tr>\n",
       "    <tr>\n",
       "      <th>2</th>\n",
       "      <td>Sound of Freedom</td>\n",
       "      <td>Action, Biography, Drama</td>\n",
       "      <td>131 min</td>\n",
       "      <td>PG-13</td>\n",
       "      <td>7.9</td>\n",
       "      <td>['Jim Caviezel, ', 'Mira Sorvino, ', 'Bill Cam...</td>\n",
       "      <td>41,808</td>\n",
       "    </tr>\n",
       "  </tbody>\n",
       "</table>\n",
       "</div>"
      ],
      "text/plain": [
       "                                           movie  \\\n",
       "0                                    The Witcher   \n",
       "1  Mission: Impossible - Dead Reckoning Part One   \n",
       "2                               Sound of Freedom   \n",
       "\n",
       "                                     genre  runtime certificate  rating  \\\n",
       "0     Action, Adventure, Drama               60 min           A     8.1   \n",
       "1  Action, Adventure, Thriller              163 min          UA     8.0   \n",
       "2     Action, Biography, Drama              131 min       PG-13     7.9   \n",
       "\n",
       "                                               stars     votes  \n",
       "0  ['Henry Cavill, ', 'Freya Allan, ', 'Anya Chal...  5,39,085  \n",
       "1  ['Tom Cruise, ', 'Hayley Atwell, ', 'Ving Rham...  1,06,759  \n",
       "2  ['Jim Caviezel, ', 'Mira Sorvino, ', 'Bill Cam...    41,808  "
      ]
     },
     "execution_count": 32,
     "metadata": {},
     "output_type": "execute_result"
    }
   ],
   "source": [
    "df = df[~df.movie.isna()];print(df.shape);df.head(3)"
   ]
  },
  {
   "cell_type": "code",
   "execution_count": 33,
   "metadata": {},
   "outputs": [
    {
     "data": {
      "text/html": [
       "<div>\n",
       "<style scoped>\n",
       "    .dataframe tbody tr th:only-of-type {\n",
       "        vertical-align: middle;\n",
       "    }\n",
       "\n",
       "    .dataframe tbody tr th {\n",
       "        vertical-align: top;\n",
       "    }\n",
       "\n",
       "    .dataframe thead th {\n",
       "        text-align: right;\n",
       "    }\n",
       "</style>\n",
       "<table border=\"1\" class=\"dataframe\">\n",
       "  <thead>\n",
       "    <tr style=\"text-align: right;\">\n",
       "      <th></th>\n",
       "      <th>movie</th>\n",
       "      <th>genre</th>\n",
       "      <th>runtime</th>\n",
       "      <th>certificate</th>\n",
       "      <th>rating</th>\n",
       "      <th>stars</th>\n",
       "      <th>votes</th>\n",
       "    </tr>\n",
       "  </thead>\n",
       "  <tbody>\n",
       "    <tr>\n",
       "      <th>0</th>\n",
       "      <td>The Witcher</td>\n",
       "      <td>Action, Adventure, Drama</td>\n",
       "      <td>60 min</td>\n",
       "      <td>A</td>\n",
       "      <td>8.1</td>\n",
       "      <td>['Henry Cavill, ', 'Freya Allan, ', 'Anya Chal...</td>\n",
       "      <td>539085.0</td>\n",
       "    </tr>\n",
       "    <tr>\n",
       "      <th>1</th>\n",
       "      <td>Mission: Impossible - Dead Reckoning Part One</td>\n",
       "      <td>Action, Adventure, Thriller</td>\n",
       "      <td>163 min</td>\n",
       "      <td>UA</td>\n",
       "      <td>8.0</td>\n",
       "      <td>['Tom Cruise, ', 'Hayley Atwell, ', 'Ving Rham...</td>\n",
       "      <td>106759.0</td>\n",
       "    </tr>\n",
       "    <tr>\n",
       "      <th>2</th>\n",
       "      <td>Sound of Freedom</td>\n",
       "      <td>Action, Biography, Drama</td>\n",
       "      <td>131 min</td>\n",
       "      <td>PG-13</td>\n",
       "      <td>7.9</td>\n",
       "      <td>['Jim Caviezel, ', 'Mira Sorvino, ', 'Bill Cam...</td>\n",
       "      <td>41808.0</td>\n",
       "    </tr>\n",
       "  </tbody>\n",
       "</table>\n",
       "</div>"
      ],
      "text/plain": [
       "                                           movie  \\\n",
       "0                                    The Witcher   \n",
       "1  Mission: Impossible - Dead Reckoning Part One   \n",
       "2                               Sound of Freedom   \n",
       "\n",
       "                                     genre  runtime certificate  rating  \\\n",
       "0     Action, Adventure, Drama               60 min           A     8.1   \n",
       "1  Action, Adventure, Thriller              163 min          UA     8.0   \n",
       "2     Action, Biography, Drama              131 min       PG-13     7.9   \n",
       "\n",
       "                                               stars     votes  \n",
       "0  ['Henry Cavill, ', 'Freya Allan, ', 'Anya Chal...  539085.0  \n",
       "1  ['Tom Cruise, ', 'Hayley Atwell, ', 'Ving Rham...  106759.0  \n",
       "2  ['Jim Caviezel, ', 'Mira Sorvino, ', 'Bill Cam...   41808.0  "
      ]
     },
     "execution_count": 33,
     "metadata": {},
     "output_type": "execute_result"
    }
   ],
   "source": [
    "df['votes'] = df['votes'].str.replace(',','')\n",
    "df['votes'] = pd.to_numeric(df['votes'], errors='coerce');df.head(3)"
   ]
  },
  {
   "cell_type": "code",
   "execution_count": 34,
   "metadata": {},
   "outputs": [
    {
     "data": {
      "text/plain": [
       "array([[8.1000000e+00, 5.3908500e+05],\n",
       "       [8.0000000e+00, 1.0675900e+05],\n",
       "       [7.9000000e+00, 4.1808000e+04],\n",
       "       ...,\n",
       "       [6.6000000e+00, 9.7700000e+02],\n",
       "       [5.9000000e+00, 4.8009037e+03],\n",
       "       [5.3000000e+00, 7.9900000e+02]])"
      ]
     },
     "execution_count": 34,
     "metadata": {},
     "output_type": "execute_result"
    }
   ],
   "source": [
    "transformed_col = ['rating', 'votes']\n",
    "imputer = SimpleImputer(missing_values=np.nan, strategy='mean')\n",
    "transformed_values = imputer.fit_transform(df[transformed_col]); transformed_values"
   ]
  },
  {
   "cell_type": "code",
   "execution_count": 35,
   "metadata": {},
   "outputs": [],
   "source": [
    "df['rating'] = [item[0].round(1) for item in transformed_values]\n",
    "df['votes'] = [item[1].round(0) for item in transformed_values]"
   ]
  },
  {
   "cell_type": "code",
   "execution_count": 42,
   "metadata": {},
   "outputs": [],
   "source": [
    "df['runtime'] = df.runtime.str.split(' ').str[0]"
   ]
  },
  {
   "cell_type": "code",
   "execution_count": 44,
   "metadata": {},
   "outputs": [],
   "source": [
    "movie = df[['movie', 'genre', 'runtime', 'certificate', 'stars']]\n",
    "rating = df[['movie', 'rating', 'votes']]"
   ]
  },
  {
   "cell_type": "code",
   "execution_count": 45,
   "metadata": {},
   "outputs": [
    {
     "data": {
      "text/html": [
       "<div>\n",
       "<style scoped>\n",
       "    .dataframe tbody tr th:only-of-type {\n",
       "        vertical-align: middle;\n",
       "    }\n",
       "\n",
       "    .dataframe tbody tr th {\n",
       "        vertical-align: top;\n",
       "    }\n",
       "\n",
       "    .dataframe thead th {\n",
       "        text-align: right;\n",
       "    }\n",
       "</style>\n",
       "<table border=\"1\" class=\"dataframe\">\n",
       "  <thead>\n",
       "    <tr style=\"text-align: right;\">\n",
       "      <th></th>\n",
       "      <th>movie</th>\n",
       "      <th>genre</th>\n",
       "      <th>runtime</th>\n",
       "      <th>certificate</th>\n",
       "      <th>stars</th>\n",
       "    </tr>\n",
       "  </thead>\n",
       "  <tbody>\n",
       "    <tr>\n",
       "      <th>0</th>\n",
       "      <td>The Witcher</td>\n",
       "      <td>Action, Adventure, Drama</td>\n",
       "      <td>60</td>\n",
       "      <td>A</td>\n",
       "      <td>['Henry Cavill, ', 'Freya Allan, ', 'Anya Chal...</td>\n",
       "    </tr>\n",
       "    <tr>\n",
       "      <th>1</th>\n",
       "      <td>Mission: Impossible - Dead Reckoning Part One</td>\n",
       "      <td>Action, Adventure, Thriller</td>\n",
       "      <td>163</td>\n",
       "      <td>UA</td>\n",
       "      <td>['Tom Cruise, ', 'Hayley Atwell, ', 'Ving Rham...</td>\n",
       "    </tr>\n",
       "    <tr>\n",
       "      <th>2</th>\n",
       "      <td>Sound of Freedom</td>\n",
       "      <td>Action, Biography, Drama</td>\n",
       "      <td>131</td>\n",
       "      <td>PG-13</td>\n",
       "      <td>['Jim Caviezel, ', 'Mira Sorvino, ', 'Bill Cam...</td>\n",
       "    </tr>\n",
       "  </tbody>\n",
       "</table>\n",
       "</div>"
      ],
      "text/plain": [
       "                                           movie  \\\n",
       "0                                    The Witcher   \n",
       "1  Mission: Impossible - Dead Reckoning Part One   \n",
       "2                               Sound of Freedom   \n",
       "\n",
       "                                     genre runtime certificate  \\\n",
       "0     Action, Adventure, Drama                  60           A   \n",
       "1  Action, Adventure, Thriller                 163          UA   \n",
       "2     Action, Biography, Drama                 131       PG-13   \n",
       "\n",
       "                                               stars  \n",
       "0  ['Henry Cavill, ', 'Freya Allan, ', 'Anya Chal...  \n",
       "1  ['Tom Cruise, ', 'Hayley Atwell, ', 'Ving Rham...  \n",
       "2  ['Jim Caviezel, ', 'Mira Sorvino, ', 'Bill Cam...  "
      ]
     },
     "execution_count": 45,
     "metadata": {},
     "output_type": "execute_result"
    }
   ],
   "source": [
    "movie.head(3)"
   ]
  },
  {
   "cell_type": "code",
   "execution_count": 46,
   "metadata": {},
   "outputs": [
    {
     "data": {
      "text/html": [
       "<div>\n",
       "<style scoped>\n",
       "    .dataframe tbody tr th:only-of-type {\n",
       "        vertical-align: middle;\n",
       "    }\n",
       "\n",
       "    .dataframe tbody tr th {\n",
       "        vertical-align: top;\n",
       "    }\n",
       "\n",
       "    .dataframe thead th {\n",
       "        text-align: right;\n",
       "    }\n",
       "</style>\n",
       "<table border=\"1\" class=\"dataframe\">\n",
       "  <thead>\n",
       "    <tr style=\"text-align: right;\">\n",
       "      <th></th>\n",
       "      <th>movie</th>\n",
       "      <th>rating</th>\n",
       "      <th>votes</th>\n",
       "    </tr>\n",
       "  </thead>\n",
       "  <tbody>\n",
       "    <tr>\n",
       "      <th>0</th>\n",
       "      <td>The Witcher</td>\n",
       "      <td>8.1</td>\n",
       "      <td>539085.0</td>\n",
       "    </tr>\n",
       "    <tr>\n",
       "      <th>1</th>\n",
       "      <td>Mission: Impossible - Dead Reckoning Part One</td>\n",
       "      <td>8.0</td>\n",
       "      <td>106759.0</td>\n",
       "    </tr>\n",
       "    <tr>\n",
       "      <th>2</th>\n",
       "      <td>Sound of Freedom</td>\n",
       "      <td>7.9</td>\n",
       "      <td>41808.0</td>\n",
       "    </tr>\n",
       "  </tbody>\n",
       "</table>\n",
       "</div>"
      ],
      "text/plain": [
       "                                           movie  rating     votes\n",
       "0                                    The Witcher     8.1  539085.0\n",
       "1  Mission: Impossible - Dead Reckoning Part One     8.0  106759.0\n",
       "2                               Sound of Freedom     7.9   41808.0"
      ]
     },
     "execution_count": 46,
     "metadata": {},
     "output_type": "execute_result"
    }
   ],
   "source": [
    "rating.head(3)"
   ]
  },
  {
   "cell_type": "code",
   "execution_count": 48,
   "metadata": {},
   "outputs": [
    {
     "name": "stdout",
     "output_type": "stream",
     "text": [
      "115866 115866\n",
      "115866 115865\n"
     ]
    }
   ],
   "source": [
    "print(len(movie), len(movie.drop_duplicates()))\n",
    "print(len(rating), len(rating.duplicates()))"
   ]
  },
  {
   "cell_type": "code",
   "execution_count": 55,
   "metadata": {},
   "outputs": [],
   "source": [
    "movie.to_csv('Movie.csv', index=False)\n",
    "rating.to_csv('Rating.csv', index=False)"
   ]
  },
  {
   "cell_type": "code",
   "execution_count": null,
   "metadata": {},
   "outputs": [],
   "source": []
  }
 ],
 "metadata": {
  "kernelspec": {
   "display_name": "Pytorch",
   "language": "python",
   "name": "python3"
  },
  "language_info": {
   "codemirror_mode": {
    "name": "ipython",
    "version": 3
   },
   "file_extension": ".py",
   "mimetype": "text/x-python",
   "name": "python",
   "nbconvert_exporter": "python",
   "pygments_lexer": "ipython3",
   "version": "3.9.7"
  }
 },
 "nbformat": 4,
 "nbformat_minor": 2
}
